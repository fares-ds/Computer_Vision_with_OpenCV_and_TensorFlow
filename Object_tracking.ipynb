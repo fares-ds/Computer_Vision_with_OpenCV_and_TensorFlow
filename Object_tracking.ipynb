{
 "cells": [
  {
   "cell_type": "markdown",
   "metadata": {},
   "source": [
    "# Object Tracking Section Gaols\n",
    "\n",
    "- Learn basic object tracking techniques\n",
    "> - Optical Flow\n",
    "> - MeanShift and CamShift\n",
    "- Understand more advanced tracking\n",
    "> - Review Built-in Tracking APIs\n",
    "****\n",
    "\n",
    "# 1. Optical Flow\n",
    "\n",
    "- Optical Flow is the pattern of apparent motion of image objects between two consecutive frames caused by the movement of object on a camera.\n",
    "\n",
    "- Optical Flow Analysis has a few assumptions:\n",
    "> - The pixel intensities of an object do not change between consicutive frames.\n",
    "> - Neighboring pixels have similar motion.\n",
    "\n",
    "- The optical flow methods in OpenCV will first take in a given set of points and a frame. Then it will attempt to find those points in the next frame. It is up to the user to supply the points to track. \n",
    "\n",
    "- The Lucas-Kanade computes optical flow for a sparse feature set. Meaning only the points it was told to track. But what if we want to track all the points in a video?\n",
    "\n",
    "- We can use Gunner Farneback's algorithm (also built-in to OpenCV) to calculate dense optical flow. This dense optical flow will calculate flow for all points in an image. It will color them black if no flow (no movement) is detected."
   ]
  },
  {
   "cell_type": "code",
   "execution_count": 1,
   "metadata": {},
   "outputs": [],
   "source": [
    "import cv2 as cv\n",
    "import numpy as np\n",
    "import matplotlib.pyplot as plt"
   ]
  },
  {
   "cell_type": "code",
   "execution_count": 2,
   "metadata": {},
   "outputs": [],
   "source": [
    "corner_track_params = dict(\n",
    "    maxCorners=10, \n",
    "    qualityLevel=0.3, \n",
    "    minDistance=7, \n",
    "    blockSize=7\n",
    ")\n",
    "\n",
    "lk_params = dict(\n",
    "    winSize=(200, 200), \n",
    "    maxLevel=2,\n",
    "    criteria=(cv.TERM_CRITERIA_EPS | cv.TERM_CRITERIA_COUNT, 10, 0.03)\n",
    ")"
   ]
  },
  {
   "cell_type": "code",
   "execution_count": 3,
   "metadata": {},
   "outputs": [],
   "source": [
    "cap = cv.VideoCapture(0)\n",
    "ret, prev_frame = cap.read()\n",
    "\n",
    "prev_gray = cv.cvtColor(prev_frame, cv.COLOR_BGR2GRAY)\n",
    "\n",
    "# PTS TO TRACK\n",
    "prev_pts = cv.goodFeaturesToTrack(prev_gray, mask=None, **corner_track_params)\n",
    "mask = np.zeros_like(prev_frame)\n",
    "\n",
    "while True:\n",
    "    ret, frame = cap.read()\n",
    "    frame_gray = cv.cvtColor(frame, cv.COLOR_BGR2GRAY)\n",
    "    next_pts, status, err = cv.calcOpticalFlowPyrLK(prev_gray, \n",
    "                                                    frame_gray, prev_pts, None, **lk_params)\n",
    "    \n",
    "    good_new = next_pts[status==1]\n",
    "    good_prev = prev_pts[status==1]\n",
    "    \n",
    "    for i, (new, prev) in enumerate(zip(good_new, good_prev)):\n",
    "        x_new, y_new = new.ravel()\n",
    "        x_prev, y_prev = prev.ravel()\n",
    "        \n",
    "        mask = cv.line(mask, (x_new, y_new), (x_prev, y_prev), (0, 255, 0), 3)\n",
    "        \n",
    "        frame = cv.circle(frame, (x_new, y_new), 8, (0, 0, 255), -1)\n",
    "    \n",
    "    img = cv.add(frame, mask)\n",
    "    cv.imshow('tracking', img)\n",
    "    k = cv.waitKey(30) & 0xFF\n",
    "    if k == 27:\n",
    "        break\n",
    "        \n",
    "    prev_gray = frame_gray.copy()\n",
    "    prev_pts = good_new.reshape(-1, 1, 2)\n",
    "    \n",
    "cv.destroyAllWindows()\n",
    "cap.release()"
   ]
  },
  {
   "cell_type": "code",
   "execution_count": null,
   "metadata": {},
   "outputs": [],
   "source": [
    "cap = cv.VideoCapture(0)\n",
    "\n",
    "ret, frame_1 = cap.read()\n"
   ]
  }
 ],
 "metadata": {
  "kernelspec": {
   "display_name": "Python 3",
   "language": "python",
   "name": "python3"
  },
  "language_info": {
   "codemirror_mode": {
    "name": "ipython",
    "version": 3
   },
   "file_extension": ".py",
   "mimetype": "text/x-python",
   "name": "python",
   "nbconvert_exporter": "python",
   "pygments_lexer": "ipython3",
   "version": "3.7.6"
  }
 },
 "nbformat": 4,
 "nbformat_minor": 4
}
